{
  "cells": [
    {
      "cell_type": "markdown",
      "metadata": {
        "id": "YziNPkg6nKMT"
      },
      "source": [
        "### TW6: Simple Linear Regression on COVID-19 Datasets\n",
        "\n",
        "\n",
        "### Learning simple linear regression\n",
        "\n",
        "Task 0: First, run the example and understand the ML process and be familir with Python package functions for simple linear regression. \n",
        "\n",
        "Task 1: Apply a simple linear regression and a logistic regression on COVID-19 dataset(s). \n",
        "\n",
        "Task 2: A summary of your findings from simple regression modeling. "
      ]
    },
    {
      "cell_type": "markdown",
      "metadata": {
        "id": "q0X62bshnKMU"
      },
      "source": [
        "#### Write full names of your team members who worked together.\n",
        "\n",
        "\n",
        "\n",
        "\n",
        "#### Submission:\n",
        "\n",
        "- Trivikram Peddiraju\n",
        "\n",
        "- Shivaram Muppidi"
      ]
    },
    {
      "cell_type": "markdown",
      "metadata": {
        "id": "T05iXkYfnKMV"
      },
      "source": [
        "###  Simple Linear Regression example\n",
        "\n",
        "Follow the code and observe the results"
      ]
    },
    {
      "cell_type": "code",
      "execution_count": 1,
      "metadata": {
        "id": "F-bU2cEfnKMV"
      },
      "outputs": [],
      "source": [
        "# Python ≥3.5 is required\n",
        "import sys\n",
        "assert sys.version_info >= (3, 5)"
      ]
    },
    {
      "cell_type": "code",
      "execution_count": 2,
      "metadata": {
        "id": "GnYNAoJEnKMg"
      },
      "outputs": [],
      "source": [
        "# Scikit-Learn ≥0.20 is required\n",
        "import sklearn\n",
        "assert sklearn.__version__ >= \"0.20\""
      ]
    },
    {
      "cell_type": "markdown",
      "metadata": {
        "id": "LqQvQj73nKMg"
      },
      "source": [
        "### Data Preparation"
      ]
    },
    {
      "cell_type": "markdown",
      "metadata": {
        "id": "GbAYD1D8nKMg"
      },
      "source": [
        "The code expects the data files to be located in the current directory. Fetch the files in datasets/lifesat."
      ]
    },
    {
      "cell_type": "code",
      "execution_count": 3,
      "metadata": {
        "id": "NIYO2V2cnKMg"
      },
      "outputs": [],
      "source": [
        "import os\n",
        "datapath = os.path.join(\"datasets\", \"lifesat\", \"\")"
      ]
    },
    {
      "cell_type": "code",
      "execution_count": 4,
      "metadata": {
        "id": "8Q8fnG9tnKMg"
      },
      "outputs": [],
      "source": [
        "# To plot pretty figures directly within Jupyter\n",
        "%matplotlib inline\n",
        "import matplotlib as mpl\n",
        "\n",
        "mpl.rc('axes', labelsize=14)\n",
        "mpl.rc('xtick', labelsize=12)\n",
        "mpl.rc('ytick', labelsize=12)"
      ]
    },
    {
      "cell_type": "code",
      "execution_count": 5,
      "metadata": {
        "colab": {
          "base_uri": "https://localhost:8080/"
        },
        "id": "ga_E8GHWnKMh",
        "outputId": "38a0a063-4c27-4f67-f661-be149fa7b3dc"
      },
      "outputs": [
        {
          "output_type": "stream",
          "name": "stdout",
          "text": [
            "Downloading oecd_bli_2015.csv\n",
            "Downloading gdp_per_capita.csv\n"
          ]
        }
      ],
      "source": [
        "# Download the data\n",
        "import urllib\n",
        "DOWNLOAD_ROOT = \"https://raw.githubusercontent.com/ageron/handson-ml2/master/\"\n",
        "os.makedirs(datapath, exist_ok=True)\n",
        "\n",
        "for filename in (\"oecd_bli_2015.csv\", \"gdp_per_capita.csv\"):\n",
        "    print(\"Downloading\", filename)\n",
        "    url = DOWNLOAD_ROOT + \"datasets/lifesat/\" + filename\n",
        "    urllib.request.urlretrieve(url, datapath + filename)"
      ]
    },
    {
      "cell_type": "markdown",
      "metadata": {
        "id": "XS7bVujtnKMh"
      },
      "source": [
        "This function just merges the OECD's life satisfaction data and the IMF's GDP per capita data. It's a bit too long and boring and it's not specific to Machine Learning, which is why I left it out of the book."
      ]
    },
    {
      "cell_type": "markdown",
      "metadata": {
        "id": "nFarMMzPnKMh"
      },
      "source": [
        "#### Load the data into a DataFrame"
      ]
    },
    {
      "cell_type": "code",
      "execution_count": 6,
      "metadata": {
        "id": "1IctwSpYnKMh"
      },
      "outputs": [],
      "source": [
        "# Code example of load the data and prepared the data\n",
        "import matplotlib.pyplot as plt\n",
        "import numpy as np\n",
        "import pandas as pd\n",
        "import sklearn.linear_model\n",
        "\n",
        "# Load the data\n",
        "oecd_bli = pd.read_csv(datapath + \"oecd_bli_2015.csv\", thousands=',')\n",
        "gdp_per_capita = pd.read_csv(datapath + \"gdp_per_capita.csv\",thousands=',',delimiter='\\t',\n",
        "                             encoding='latin1', na_values=\"n/a\")"
      ]
    },
    {
      "cell_type": "markdown",
      "metadata": {
        "id": "ouIMr4T8nKMi"
      },
      "source": [
        "#### A function to select the data and visualize it"
      ]
    },
    {
      "cell_type": "code",
      "execution_count": 7,
      "metadata": {
        "id": "e58EdOGinKMi"
      },
      "outputs": [],
      "source": [
        "def prepare_country_stats(oecd_bli, gdp_per_capita):\n",
        "    oecd_bli = oecd_bli[oecd_bli[\"INEQUALITY\"]==\"TOT\"]\n",
        "    oecd_bli = oecd_bli.pivot(index=\"Country\", columns=\"Indicator\", values=\"Value\")\n",
        "    gdp_per_capita.rename(columns={\"2015\": \"GDP per capita\"}, inplace=True)\n",
        "    gdp_per_capita.set_index(\"Country\", inplace=True)\n",
        "    \n",
        "    full_country_stats = pd.merge(left=oecd_bli, right=gdp_per_capita,\n",
        "                                  left_index=True, right_index=True)\n",
        "    \n",
        "    full_country_stats.sort_values(by=\"GDP per capita\", inplace=True)\n",
        "    remove_indices = [0, 1, 6, 8, 33, 34, 35]\n",
        "    keep_indices = list(set(range(36)) - set(remove_indices))\n",
        "    \n",
        "    return full_country_stats[['GDP per capita', 'Life satisfaction']].iloc[keep_indices]"
      ]
    },
    {
      "cell_type": "code",
      "execution_count": 8,
      "metadata": {
        "colab": {
          "base_uri": "https://localhost:8080/",
          "height": 286
        },
        "id": "MIFO-cvrnKMi",
        "outputId": "729a9b3b-442c-4f63-a26a-8e7d9aa9d87f"
      },
      "outputs": [
        {
          "output_type": "display_data",
          "data": {
            "text/plain": [
              "<Figure size 432x288 with 1 Axes>"
            ],
            "image/png": "[encoded data removed]"
          },
          "metadata": {
            "needs_background": "light"
          }
        }
      ],
      "source": [
        "# Prepare the data\n",
        "country_stats = prepare_country_stats(oecd_bli, gdp_per_capita)\n",
        "\n",
        "X = np.c_[country_stats['GDP per capita']]\n",
        "y = np.c_[country_stats['Life satisfaction']]\n",
        "\n",
        "# Visualize the data\n",
        "country_stats.plot(kind='scatter', x=\"GDP per capita\", y='Life satisfaction')\n",
        "plt.show()"
      ]
    },
    {
      "cell_type": "code",
      "execution_count": 9,
      "metadata": {
        "colab": {
          "base_uri": "https://localhost:8080/"
        },
        "id": "_AaEychynKMi",
        "outputId": "792e13cb-f896-4578-837c-bc7027eb649f"
      },
      "outputs": [
        {
          "output_type": "stream",
          "name": "stdout",
          "text": [
            "(29, 1) (29, 1)\n"
          ]
        }
      ],
      "source": [
        "# check sahpes of X and y\n",
        "print(X.shape, y.shape)"
      ]
    },
    {
      "cell_type": "code",
      "execution_count": 10,
      "metadata": {
        "colab": {
          "base_uri": "https://localhost:8080/"
        },
        "id": "l3WGaC_CnKMi",
        "outputId": "0991f4a3-ed91-4f2d-adb7-f901be7e3fc8"
      },
      "outputs": [
        {
          "output_type": "stream",
          "name": "stdout",
          "text": [
            "[[ 9054.914]\n",
            " [ 9437.372]\n",
            " [12239.894]\n",
            " [12495.334]\n",
            " [15991.736]]\n",
            "[[6. ]\n",
            " [5.6]\n",
            " [4.9]\n",
            " [5.8]\n",
            " [6.1]]\n"
          ]
        }
      ],
      "source": [
        "# check data values\n",
        "print(X[:5])\n",
        "print(y[:5])"
      ]
    },
    {
      "cell_type": "markdown",
      "metadata": {
        "id": "z-lNELQ2nKMi"
      },
      "source": [
        "### Build a simple regression model"
      ]
    },
    {
      "cell_type": "markdown",
      "metadata": {
        "id": "5zZ9dN1PnKMj"
      },
      "source": [
        "\n",
        "#### Create a simple linear regression \n",
        "\n",
        "https://scikit-learn.org/stable/modules/generated/sklearn.linear_model.LinearRegression.html"
      ]
    },
    {
      "cell_type": "code",
      "execution_count": 11,
      "metadata": {
        "colab": {
          "base_uri": "https://localhost:8080/"
        },
        "id": "vmsPi0dFnKMj",
        "outputId": "b2e9d13b-f2b0-4f87-c4b2-97bead881e80"
      },
      "outputs": [
        {
          "output_type": "execute_result",
          "data": {
            "text/plain": [
              "LinearRegression()"
            ]
          },
          "metadata": {},
          "execution_count": 11
        }
      ],
      "source": [
        "# import model\n",
        "from sklearn.linear_model import LinearRegression\n",
        "\n",
        "\n",
        "# Create a simple linear regression model\n",
        "model = LinearRegression()\n",
        "\n",
        "# Train the model\n",
        "# This time we use all data for training\n",
        "# Later (always in our analysis) we will divide the data into training data and testing data\n",
        "model.fit(X, y)"
      ]
    },
    {
      "cell_type": "code",
      "execution_count": 12,
      "metadata": {
        "colab": {
          "base_uri": "https://localhost:8080/"
        },
        "id": "siEyURfenKMj",
        "outputId": "17944664-e27f-4ccf-fc12-a9b94806b4dd"
      },
      "outputs": [
        {
          "output_type": "stream",
          "name": "stdout",
          "text": [
            "[[4.91154459e-05]]\n",
            "[4.8530528]\n"
          ]
        }
      ],
      "source": [
        "# check the properties of the model\n",
        "# coefficient and intercept\n",
        "\n",
        "print(model.coef_)\n",
        "print(model.intercept_)"
      ]
    },
    {
      "cell_type": "markdown",
      "metadata": {
        "id": "b81hOMMfnKMj"
      },
      "source": [
        "#### Predict y for a new X value"
      ]
    },
    {
      "cell_type": "code",
      "execution_count": 13,
      "metadata": {
        "colab": {
          "base_uri": "https://localhost:8080/"
        },
        "id": "cecapgwbnKMj",
        "outputId": "9a361ec4-d867-468e-f0b5-1cfcf9ca6255"
      },
      "outputs": [
        {
          "output_type": "execute_result",
          "data": {
            "text/plain": [
              "array([[5.96242338]])"
            ]
          },
          "metadata": {},
          "execution_count": 13
        }
      ],
      "source": [
        "# Make a prediction for Cyprus \n",
        "# new data value 22587 for Cyprus's GDP per capita\n",
        "\n",
        "X_new = [[22587]]\n",
        "\n",
        "y_predict = model.predict(X_new)\n",
        "\n",
        "y_predict"
      ]
    },
    {
      "cell_type": "markdown",
      "metadata": {
        "id": "vPIyrYFFnKMj"
      },
      "source": [
        "#### Plot a scatter graph together with the regression function"
      ]
    },
    {
      "cell_type": "code",
      "execution_count": 14,
      "metadata": {
        "colab": {
          "base_uri": "https://localhost:8080/",
          "height": 302
        },
        "id": "DAzERTegnKMk",
        "outputId": "7f3b3a0d-0cb6-4046-9527-e0cd61897a56"
      },
      "outputs": [
        {
          "output_type": "display_data",
          "data": {
            "text/plain": [
              "<Figure size 432x288 with 1 Axes>"
            ],
            "image/png": "[encoded data removed]"
          },
          "metadata": {
            "needs_background": "light"
          }
        }
      ],
      "source": [
        "# Plot scatterplot \n",
        "plt.scatter(X, y, c='red', label='observed')\n",
        "plt.legend(loc='best')\n",
        "\n",
        "plt.xlabel('GDP per capita')\n",
        "plt.ylabel('Life satisfaction')\n",
        "plt.title('Regression')\n",
        "\n",
        "# plot the regression together with the data\n",
        "plt.plot(X,model.predict(X),c='g',label='fitted',linewidth=2)\n",
        "\n",
        "plt.show()"
      ]
    },
    {
      "cell_type": "markdown",
      "metadata": {
        "id": "Dx1CAyOpnKMk"
      },
      "source": [
        "## Model evaluation metrics for regression\n",
        "\n",
        "Evaluation metrics for classification problems, such as **accuracy**, are not useful for regression problems. Instead, we need evaluation metrics designed for comparing continuous values.\n",
        "\n",
        "Let's create some example numeric predictions, and calculate **three common evaluation metrics** for regression problems:\n",
        "\n",
        "See more details: https://scikit-learn.org/stable/modules/model_evaluation.html\n",
        "\n",
        "\n",
        "**Mean Absolute Error** (MAE) is the mean of the absolute value of the errors:\n",
        "\n",
        "$$\\frac 1n\\sum_{i=1}^n|y_i-\\hat{y}_i|$$\n",
        "\n",
        "**Mean Squared Error** (MSE) is the mean of the squared errors:\n",
        "\n",
        "$$\\frac 1n\\sum_{i=1}^n(y_i-\\hat{y}_i)^2$$\n",
        "\n",
        "\n",
        "**Root Mean Squared Error** (RMSE) is the square root of the mean of the squared errors:\n",
        "\n",
        "$$\\sqrt{\\frac 1n\\sum_{i=1}^n(y_i-\\hat{y}_i)^2}$$\n",
        "\n",
        "\n",
        "Comparing these metrics:\n",
        "\n",
        "- **MAE** is the easiest to understand, because it's the average error.\n",
        "- **MSE** is more popular than MAE, because MSE \"punishes\" larger errors.\n",
        "- **RMSE** is even more popular than MSE, because RMSE is interpretable in the \"y\" units.\n",
        "\n",
        "\n",
        "### The R2 (\"r-squared\") Regression Score\n",
        "\n",
        "- Measures how well a prediction model for regression fits the given data.\n",
        "\n",
        "- The score is between 0 and 1:\n",
        "\n",
        "     - A value of 0 corresponds to a constant model that predicts the mean value of all training target values.\n",
        "\n",
        "     - A value of 1 corresponds to perfect prediction\n",
        "\n",
        "- Also known as \"coefficient of determination\"\n"
      ]
    },
    {
      "cell_type": "markdown",
      "metadata": {
        "id": "r-1-jOsynKMk"
      },
      "source": [
        "### Model Evaluation Example"
      ]
    },
    {
      "cell_type": "markdown",
      "metadata": {
        "id": "_auSv7NNnKMk"
      },
      "source": [
        "#### 1. Preparing X and y using pandas\n",
        "- We already did this process above\n",
        "- scikit-learn expects X (feature matrix) and y (response vector) to be NumPy arrays.\n",
        "- However, pandas is built on top of NumPy.\n",
        "- Thus, X can be a pandas DataFrame and y can be a pandas Series!\n",
        "\n",
        "See more details about Pandas Series and Numpy\n",
        "\n",
        "- https://pandas.pydata.org/pandas-docs/stable/reference/api/pandas.Series.html"
      ]
    },
    {
      "cell_type": "markdown",
      "metadata": {
        "id": "U7uXehWmnKMk"
      },
      "source": [
        "#### 2. Splitting X and y into training and testing sets\n",
        "\n",
        "We are using the same data that is stored X, y above. "
      ]
    },
    {
      "cell_type": "code",
      "execution_count": 15,
      "metadata": {
        "id": "OfCVOcYpnKMk"
      },
      "outputs": [],
      "source": [
        "from sklearn.model_selection import train_test_split\n",
        "\n",
        "# split the data into training and testing (test data size 30%)\n",
        "\n",
        "X_train,X_test,y_train,y_test=train_test_split(X,y,test_size=0.3, random_state=1)"
      ]
    },
    {
      "cell_type": "markdown",
      "metadata": {
        "id": "bUiG7YKrnKMk"
      },
      "source": [
        "#### 3. Linear regression in scikit-learn"
      ]
    },
    {
      "cell_type": "code",
      "execution_count": 16,
      "metadata": {
        "colab": {
          "base_uri": "https://localhost:8080/"
        },
        "id": "i01bs1xlnKMk",
        "outputId": "ee99764d-314f-49fb-c750-d52966f84372"
      },
      "outputs": [
        {
          "output_type": "execute_result",
          "data": {
            "text/plain": [
              "LinearRegression()"
            ]
          },
          "metadata": {},
          "execution_count": 16
        }
      ],
      "source": [
        "# import model\n",
        "from sklearn.linear_model import LinearRegression\n",
        "\n",
        "\n",
        "# instantiate a simple linear regression model \n",
        "linreg=LinearRegression()\n",
        "\n",
        "# fit the model to the training data (learn the coefficients)\n",
        "\n",
        "linreg.fit(X_train,y_train)"
      ]
    },
    {
      "cell_type": "markdown",
      "metadata": {
        "id": "LfgBPhExnKMl"
      },
      "source": [
        "#### 4. Making predictions for testing data\n",
        "\n",
        "Use X_test"
      ]
    },
    {
      "cell_type": "code",
      "execution_count": 17,
      "metadata": {
        "colab": {
          "base_uri": "https://localhost:8080/"
        },
        "id": "8lhFSAh_nKMl",
        "outputId": "7bd372f7-9646-4f67-c916-1fa793ab63fb"
      },
      "outputs": [
        {
          "output_type": "execute_result",
          "data": {
            "text/plain": [
              "array([[6.59031623],\n",
              "       [6.90629497],\n",
              "       [6.82350342],\n",
              "       [6.90057464],\n",
              "       [7.24870458],\n",
              "       [6.88774681],\n",
              "       [5.42891846],\n",
              "       [6.12434396],\n",
              "       [7.19687366]])"
            ]
          },
          "metadata": {},
          "execution_count": 17
        }
      ],
      "source": [
        "# make predictions on the testing set\n",
        "y_pred=linreg.predict(X_test)\n",
        "\n",
        "y_pred"
      ]
    },
    {
      "cell_type": "markdown",
      "metadata": {
        "id": "U2fhVKCmnKMl"
      },
      "source": [
        "#### 5. Computing the RMSE \n",
        "\n",
        "https://scikit-learn.org/stable/modules/model_evaluation.html"
      ]
    },
    {
      "cell_type": "code",
      "execution_count": 18,
      "metadata": {
        "colab": {
          "base_uri": "https://localhost:8080/"
        },
        "id": "unHESrADnKMl",
        "outputId": "30aafcac-21ee-49c1-a3f6-c004b04a810a"
      },
      "outputs": [
        {
          "output_type": "execute_result",
          "data": {
            "text/plain": [
              "0.39596209321120784"
            ]
          },
          "metadata": {},
          "execution_count": 18
        }
      ],
      "source": [
        "from sklearn import metrics\n",
        "\n",
        "rmse = np.sqrt(metrics.mean_squared_error(y_test,y_pred))\n",
        "rmse"
      ]
    },
    {
      "cell_type": "markdown",
      "metadata": {
        "id": "CfOWWnbYnKMl"
      },
      "source": [
        "#### 6. K Cross Validation and Learning Curve"
      ]
    },
    {
      "cell_type": "code",
      "execution_count": 19,
      "metadata": {
        "colab": {
          "base_uri": "https://localhost:8080/"
        },
        "id": "myozkzXlnKMl",
        "outputId": "97387480-5c8f-4589-e77f-978147f266a6"
      },
      "outputs": [
        {
          "output_type": "stream",
          "name": "stdout",
          "text": [
            "KFold(n_splits=3, random_state=None, shuffle=True)\n"
          ]
        }
      ],
      "source": [
        "import statistics as st\n",
        "from sklearn.model_selection import KFold # import k-fold validation\n",
        "\n",
        "kf = KFold(n_splits=3, random_state=None, shuffle=True) # Define the split - into 3 folds \n",
        "\n",
        "kf.get_n_splits(X) # returns the number of splitting iterations in the cross-validator\n",
        "\n",
        "print(kf) "
      ]
    },
    {
      "cell_type": "markdown",
      "metadata": {
        "id": "KXU8IdcsnKMl"
      },
      "source": [
        "##### Setting up a testbed using KFold "
      ]
    },
    {
      "cell_type": "code",
      "execution_count": 20,
      "metadata": {
        "colab": {
          "base_uri": "https://localhost:8080/"
        },
        "id": "LWgyqA2znKMm",
        "outputId": "ec4770df-df2a-45c4-fbb2-e54919198c33"
      },
      "outputs": [
        {
          "output_type": "stream",
          "name": "stdout",
          "text": [
            "[0.4965975554576044, 0.381130571480563, 0.4401411215536226]\n",
            "[0.686088171987693, 0.7712072570214199, 0.56652870835688]\n"
          ]
        }
      ],
      "source": [
        "# Let's create a new simple linear regressor\n",
        "linreg=LinearRegression()\n",
        "\n",
        "# Conduct 3-fold cross validation\n",
        "rmse=[]\n",
        "r2 =[]\n",
        "\n",
        "for train_index, test_index in kf.split(X):\n",
        "    X_train, X_test = X[train_index],X[test_index]\n",
        "    y_train, y_test = y[train_index],y[test_index]\n",
        "    \n",
        "    linreg.fit(X_train, y_train)\n",
        "    y_pred = linreg.predict(X_test)\n",
        "    \n",
        "    rmse.append(np.sqrt(metrics.mean_squared_error(y_test,y_pred)))\n",
        "    r2.append(metrics.r2_score(y_test,y_pred))\n",
        "    \n",
        "\n",
        "print(rmse)\n",
        "print(r2)"
      ]
    },
    {
      "cell_type": "markdown",
      "metadata": {
        "id": "dXkUgKaWnKMm"
      },
      "source": [
        "#### Learning Curve\n",
        "\n",
        "Check the details for learning curve\n",
        "\n",
        "https://scikit-learn.org/stable/modules/generated/sklearn.model_selection.learning_curve.html"
      ]
    },
    {
      "cell_type": "code",
      "execution_count": 21,
      "metadata": {
        "colab": {
          "base_uri": "https://localhost:8080/"
        },
        "id": "2yDuYMaWnKMm",
        "outputId": "f1ff545a-a289-4428-9abd-10ed7306d8fc"
      },
      "outputs": [
        {
          "output_type": "stream",
          "name": "stdout",
          "text": [
            "[[0.2157424  0.38723957 0.19123809]\n",
            " [0.33166809 0.36729099 0.3617635 ]\n",
            " [0.38744018 0.34697178 0.41153107]\n",
            " [0.35912163 0.32012734 0.44863398]\n",
            " [0.33946627 0.31855722 0.49925588]]\n",
            "[[1.54771331 1.99479848 0.81716272]\n",
            " [0.5694152  0.46483732 0.95809601]\n",
            " [0.52998929 0.45280154 0.86212787]\n",
            " [0.53247457 0.44993075 0.49350627]\n",
            " [0.53639064 0.46329028 0.36532401]]\n"
          ]
        }
      ],
      "source": [
        "from sklearn.model_selection import learning_curve\n",
        "    \n",
        "# evaluate the training and testing and\n",
        "# retrieve the information of model performance. \n",
        "train_sizes = np.linspace(0.2,0.8,5)  # 5 times 5*3 = 15\n",
        "\n",
        "train_sizes, train_mse, test_mse = learning_curve(linreg, X, y, \n",
        "                            train_sizes = train_sizes, \n",
        "                            scoring = 'neg_mean_squared_error',\n",
        "                                                 cv=3, shuffle=True)\n",
        "train_scores = np.sqrt(np.abs(train_mse))\n",
        "\n",
        "test_scores = np.sqrt(np.abs(test_mse))\n",
        "\n",
        "print(train_scores)\n",
        "print(test_scores) \n",
        "\n",
        "train_scores_mean=np.mean(train_scores, axis=1)\n",
        "\n",
        "test_scores_mean = np.mean(test_scores, axis=1)"
      ]
    },
    {
      "cell_type": "code",
      "execution_count": 22,
      "metadata": {
        "colab": {
          "base_uri": "https://localhost:8080/",
          "height": 248
        },
        "id": "-bvnqnX9nKMm",
        "outputId": "7a37cfe2-3c0b-4f57-de51-c022d225292a"
      },
      "outputs": [
        {
          "output_type": "display_data",
          "data": {
            "text/plain": [
              "<Figure size 360x216 with 1 Axes>"
            ],
            "image/png": "[encoded data removed]"
          },
          "metadata": {
            "needs_background": "light"
          }
        }
      ],
      "source": [
        "# Plot learning curve\n",
        "fig, ax = plt.subplots(1, 1, figsize=(5, 3))\n",
        "    \n",
        "ax.set_title('A learning curve for a simple linear regression')\n",
        "ax.set_xlabel(\"Training examples\")\n",
        "ax.set_ylabel(\"Score (RMSE)\")\n",
        "ax.grid()\n",
        "\n",
        "ax.plot(train_sizes, train_scores_mean, 'o-', color=\"r\", label=\"Training score\")\n",
        "ax.plot(train_sizes, test_scores_mean, 'o-', color=\"g\", label=\"Cross-validation score\")\n",
        "ax.legend(loc=\"best\")\n",
        "\n",
        "plt.show()"
      ]
    },
    {
      "cell_type": "markdown",
      "metadata": {
        "id": "YlDNS76MnKMm"
      },
      "source": [
        "### Teamwork\n",
        "\n",
        "\n",
        "###  Part 1: Regression Modeling\n",
        "\n",
        "The following Git repository is for the COVID-19 visual dashboard operated by the Johns Hopkins University Center for Systems Science and Engineering:\n",
        "https://github.com/CSSEGISandData/COVID-19\n",
        "\n",
        "Read the information on the dashboard and check the datasets details\n",
        "\n",
        "Datasets are located in a folder: csse_covid_19_data"
      ]
    },
    {
      "cell_type": "markdown",
      "metadata": {
        "id": "FbW37O6vnKMm"
      },
      "source": [
        "### Tasks\n",
        "\n",
        "1. Check your work in TW3 (EDA on COVID-19 datasets). In TW3, you conducted an EDA on your selected COVID-19 datasets through descriptive statistics and data visualization. The EDA analysis results may give you  insight of the selected data and relationships among the data attributes. \n",
        "\n",
        "2. Now, build a simple regression and plot the regression function with a scatter plot (as shown in the example above). \n",
        "    --> You may see the data does not follow a simple linear function. \n",
        "   \n",
        "3. Build a logistic regression and draw a scatter plot of the data together with the logistic regression function. See the web resources below:\n",
        "\n",
        "https://scikit-learn.org/stable/modules/generated/sklearn.linear_model.LogisticRegression.html\n",
        " "
      ]
    },
    {
      "cell_type": "code",
      "execution_count": 23,
      "metadata": {
        "colab": {
          "base_uri": "https://localhost:8080/"
        },
        "id": "cOtkBdDHnKMm",
        "outputId": "1fe035e3-e9a7-425e-a903-9c86d75f67b4"
      },
      "outputs": [
        {
          "output_type": "stream",
          "name": "stdout",
          "text": [
            "Downloading time_series_covid19_confirmed_US.csv\n",
            "Downloading time_series_covid19_deaths_US.csv\n"
          ]
        }
      ],
      "source": [
        "import os\n",
        "datapath = os.path.join(\"csse_covid_19_data\", \"csse_covid_19_data\", \"\")\n",
        "\n",
        "import urllib\n",
        "\n",
        "DOWNLOAD_ROOT = \"https://raw.githubusercontent.com/CSSEGISandData/COVID-19/master/csse_covid_19_data/csse_covid_19_time_series/time_series_covid19_confirmed_US.csv\"\n",
        "os.makedirs(datapath, exist_ok=True)\n",
        "\n",
        "for filename in (\"time_series_covid19_confirmed_US.csv\",\"time_series_covid19_deaths_US.csv\"):\n",
        "    print(\"Downloading\", filename)\n",
        "    url = DOWNLOAD_ROOT + \"csse_covid_19_data/csse_covid_19_data/\" + filename\n",
        "    urllib.request.urlretrieve(DOWNLOAD_ROOT, datapath + filename)"
      ]
    },
    {
      "cell_type": "code",
      "execution_count": 24,
      "metadata": {
        "id": "g_QschvfnKMm"
      },
      "outputs": [],
      "source": [
        "# import necessary packages and modules\n",
        "\n",
        "%matplotlib inline\n",
        "\n",
        "import pandas as pd\n",
        "import matplotlib.pyplot as plt"
      ]
    },
    {
      "cell_type": "code",
      "execution_count": 25,
      "metadata": {
        "colab": {
          "base_uri": "https://localhost:8080/",
          "height": 300
        },
        "id": "z5He6gKEnKMn",
        "outputId": "304ae98c-3c93-4e5b-f73d-f1f72cfae00c"
      },
      "outputs": [
        {
          "output_type": "execute_result",
          "data": {
            "text/plain": [
              "        UID iso2 iso3  code3    FIPS   Admin2 Province_State Country_Region  \\\n",
              "0  84001001   US  USA    840  1001.0  Autauga        Alabama             US   \n",
              "1  84001003   US  USA    840  1003.0  Baldwin        Alabama             US   \n",
              "2  84001005   US  USA    840  1005.0  Barbour        Alabama             US   \n",
              "3  84001007   US  USA    840  1007.0     Bibb        Alabama             US   \n",
              "4  84001009   US  USA    840  1009.0   Blount        Alabama             US   \n",
              "\n",
              "         Lat      Long_  ... 10/26/22  10/27/22  10/28/22  10/29/22  10/30/22  \\\n",
              "0  32.539527 -86.644082  ...    18480     18511     18511     18511     18511   \n",
              "1  30.727750 -87.722071  ...    65895     65973     65973     65973     65973   \n",
              "2  31.868263 -85.387129  ...     6926      6930      6930      6930      6930   \n",
              "3  32.996421 -87.125115  ...     7560      7575      7575      7575      7575   \n",
              "4  33.982109 -86.567906  ...    17286     17320     17320     17320     17320   \n",
              "\n",
              "   10/31/22  11/1/22  11/2/22  11/3/22  11/4/22  \n",
              "0     18511    18511    18511    18511    18511  \n",
              "1     65973    65973    65973    65973    65973  \n",
              "2      6930     6930     6930     6930     6930  \n",
              "3      7575     7575     7575     7575     7575  \n",
              "4     17320    17320    17320    17320    17320  \n",
              "\n",
              "[5 rows x 1029 columns]"
            ],
            "text/html": [
              "\n",
              "  <div id=\"df-d19c67e5-5118-45e5-bde9-9acb5f2e335d\">\n",
              "    <div class=\"colab-df-container\">\n",
              "      <div>\n",
              "<style scoped>\n",
              "    .dataframe tbody tr th:only-of-type {\n",
              "        vertical-align: middle;\n",
              "    }\n",
              "\n",
              "    .dataframe tbody tr th {\n",
              "        vertical-align: top;\n",
              "    }\n",
              "\n",
              "    .dataframe thead th {\n",
              "        text-align: right;\n",
              "    }\n",
              "</style>\n",
              "<table border=\"1\" class=\"dataframe\">\n",
              "  <thead>\n",
              "    <tr style=\"text-align: right;\">\n",
              "      <th></th>\n",
              "      <th>UID</th>\n",
              "      <th>iso2</th>\n",
              "      <th>iso3</th>\n",
              "      <th>code3</th>\n",
              "      <th>FIPS</th>\n",
              "      <th>Admin2</th>\n",
              "      <th>Province_State</th>\n",
              "      <th>Country_Region</th>\n",
              "      <th>Lat</th>\n",
              "      <th>Long_</th>\n",
              "      <th>...</th>\n",
              "      <th>10/26/22</th>\n",
              "      <th>10/27/22</th>\n",
              "      <th>10/28/22</th>\n",
              "      <th>10/29/22</th>\n",
              "      <th>10/30/22</th>\n",
              "      <th>10/31/22</th>\n",
              "      <th>11/1/22</th>\n",
              "      <th>11/2/22</th>\n",
              "      <th>11/3/22</th>\n",
              "      <th>11/4/22</th>\n",
              "    </tr>\n",
              "  </thead>\n",
              "  <tbody>\n",
              "    <tr>\n",
              "      <th>0</th>\n",
              "      <td>84001001</td>\n",
              "      <td>US</td>\n",
              "      <td>USA</td>\n",
              "      <td>840</td>\n",
              "      <td>1001.0</td>\n",
              "      <td>Autauga</td>\n",
              "      <td>Alabama</td>\n",
              "      <td>US</td>\n",
              "      <td>32.539527</td>\n",
              "      <td>-86.644082</td>\n",
              "      <td>...</td>\n",
              "      <td>18480</td>\n",
              "      <td>18511</td>\n",
              "      <td>18511</td>\n",
              "      <td>18511</td>\n",
              "      <td>18511</td>\n",
              "      <td>18511</td>\n",
              "      <td>18511</td>\n",
              "      <td>18511</td>\n",
              "      <td>18511</td>\n",
              "      <td>18511</td>\n",
              "    </tr>\n",
              "    <tr>\n",
              "      <th>1</th>\n",
              "      <td>84001003</td>\n",
              "      <td>US</td>\n",
              "      <td>USA</td>\n",
              "      <td>840</td>\n",
              "      <td>1003.0</td>\n",
              "      <td>Baldwin</td>\n",
              "      <td>Alabama</td>\n",
              "      <td>US</td>\n",
              "      <td>30.727750</td>\n",
              "      <td>-87.722071</td>\n",
              "      <td>...</td>\n",
              "      <td>65895</td>\n",
              "      <td>65973</td>\n",
              "      <td>65973</td>\n",
              "      <td>65973</td>\n",
              "      <td>65973</td>\n",
              "      <td>65973</td>\n",
              "      <td>65973</td>\n",
              "      <td>65973</td>\n",
              "      <td>65973</td>\n",
              "      <td>65973</td>\n",
              "    </tr>\n",
              "    <tr>\n",
              "      <th>2</th>\n",
              "      <td>84001005</td>\n",
              "      <td>US</td>\n",
              "      <td>USA</td>\n",
              "      <td>840</td>\n",
              "      <td>1005.0</td>\n",
              "      <td>Barbour</td>\n",
              "      <td>Alabama</td>\n",
              "      <td>US</td>\n",
              "      <td>31.868263</td>\n",
              "      <td>-85.387129</td>\n",
              "      <td>...</td>\n",
              "      <td>6926</td>\n",
              "      <td>6930</td>\n",
              "      <td>6930</td>\n",
              "      <td>6930</td>\n",
              "      <td>6930</td>\n",
              "      <td>6930</td>\n",
              "      <td>6930</td>\n",
              "      <td>6930</td>\n",
              "      <td>6930</td>\n",
              "      <td>6930</td>\n",
              "    </tr>\n",
              "    <tr>\n",
              "      <th>3</th>\n",
              "      <td>84001007</td>\n",
              "      <td>US</td>\n",
              "      <td>USA</td>\n",
              "      <td>840</td>\n",
              "      <td>1007.0</td>\n",
              "      <td>Bibb</td>\n",
              "      <td>Alabama</td>\n",
              "      <td>US</td>\n",
              "      <td>32.996421</td>\n",
              "      <td>-87.125115</td>\n",
              "      <td>...</td>\n",
              "      <td>7560</td>\n",
              "      <td>7575</td>\n",
              "      <td>7575</td>\n",
              "      <td>7575</td>\n",
              "      <td>7575</td>\n",
              "      <td>7575</td>\n",
              "      <td>7575</td>\n",
              "      <td>7575</td>\n",
              "      <td>7575</td>\n",
              "      <td>7575</td>\n",
              "    </tr>\n",
              "    <tr>\n",
              "      <th>4</th>\n",
              "      <td>84001009</td>\n",
              "      <td>US</td>\n",
              "      <td>USA</td>\n",
              "      <td>840</td>\n",
              "      <td>1009.0</td>\n",
              "      <td>Blount</td>\n",
              "      <td>Alabama</td>\n",
              "      <td>US</td>\n",
              "      <td>33.982109</td>\n",
              "      <td>-86.567906</td>\n",
              "      <td>...</td>\n",
              "      <td>17286</td>\n",
              "      <td>17320</td>\n",
              "      <td>17320</td>\n",
              "      <td>17320</td>\n",
              "      <td>17320</td>\n",
              "      <td>17320</td>\n",
              "      <td>17320</td>\n",
              "      <td>17320</td>\n",
              "      <td>17320</td>\n",
              "      <td>17320</td>\n",
              "    </tr>\n",
              "  </tbody>\n",
              "</table>\n",
              "<p>5 rows × 1029 columns</p>\n",
              "</div>\n",
              "      <button class=\"colab-df-convert\" onclick=\"convertToInteractive('df-d19c67e5-5118-45e5-bde9-9acb5f2e335d')\"\n",
              "              title=\"Convert this dataframe to an interactive table.\"\n",
              "              style=\"display:none;\">\n",
              "        \n",
              "  <svg xmlns=\"http://www.w3.org/2000/svg\" height=\"24px\"viewBox=\"0 0 24 24\"\n",
              "       width=\"24px\">\n",
              "    <path d=\"M0 0h24v24H0V0z\" fill=\"none\"/>\n",
              "    <path d=\"M18.56 5.44l.94 2.06.94-2.06 2.06-.94-2.06-.94-.94-2.06-.94 2.06-2.06.94zm-11 1L8.5 8.5l.94-2.06 2.06-.94-2.06-.94L8.5 2.5l-.94 2.06-2.06.94zm10 10l.94 2.06.94-2.06 2.06-.94-2.06-.94-.94-2.06-.94 2.06-2.06.94z\"/><path d=\"M17.41 7.96l-1.37-1.37c-.4-.4-.92-.59-1.43-.59-.52 0-1.04.2-1.43.59L10.3 9.45l-7.72 7.72c-.78.78-.78 2.05 0 2.83L4 21.41c.39.39.9.59 1.41.59.51 0 1.02-.2 1.41-.59l7.78-7.78 2.81-2.81c.8-.78.8-2.07 0-2.86zM5.41 20L4 18.59l7.72-7.72 1.47 1.35L5.41 20z\"/>\n",
              "  </svg>\n",
              "      </button>\n",
              "      \n",
              "  <style>\n",
              "    .colab-df-container {\n",
              "      display:flex;\n",
              "      flex-wrap:wrap;\n",
              "      gap: 12px;\n",
              "    }\n",
              "\n",
              "    .colab-df-convert {\n",
              "      background-color: #E8F0FE;\n",
              "      border: none;\n",
              "      border-radius: 50%;\n",
              "      cursor: pointer;\n",
              "      display: none;\n",
              "      fill: #1967D2;\n",
              "      height: 32px;\n",
              "      padding: 0 0 0 0;\n",
              "      width: 32px;\n",
              "    }\n",
              "\n",
              "    .colab-df-convert:hover {\n",
              "      background-color: #E2EBFA;\n",
              "      box-shadow: 0px 1px 2px rgba(60, 64, 67, 0.3), 0px 1px 3px 1px rgba(60, 64, 67, 0.15);\n",
              "      fill: #174EA6;\n",
              "    }\n",
              "\n",
              "    [theme=dark] .colab-df-convert {\n",
              "      background-color: #3B4455;\n",
              "      fill: #D2E3FC;\n",
              "    }\n",
              "\n",
              "    [theme=dark] .colab-df-convert:hover {\n",
              "      background-color: #434B5C;\n",
              "      box-shadow: 0px 1px 3px 1px rgba(0, 0, 0, 0.15);\n",
              "      filter: drop-shadow(0px 1px 2px rgba(0, 0, 0, 0.3));\n",
              "      fill: #FFFFFF;\n",
              "    }\n",
              "  </style>\n",
              "\n",
              "      <script>\n",
              "        const buttonEl =\n",
              "          document.querySelector('#df-d19c67e5-5118-45e5-bde9-9acb5f2e335d button.colab-df-convert');\n",
              "        buttonEl.style.display =\n",
              "          google.colab.kernel.accessAllowed ? 'block' : 'none';\n",
              "\n",
              "        async function convertToInteractive(key) {\n",
              "          const element = document.querySelector('#df-d19c67e5-5118-45e5-bde9-9acb5f2e335d');\n",
              "          const dataTable =\n",
              "            await google.colab.kernel.invokeFunction('convertToInteractive',\n",
              "                                                     [key], {});\n",
              "          if (!dataTable) return;\n",
              "\n",
              "          const docLinkHtml = 'Like what you see? Visit the ' +\n",
              "            '<a target=\"_blank\" href=https://colab.research.google.com/notebooks/data_table.ipynb>data table notebook</a>'\n",
              "            + ' to learn more about interactive tables.';\n",
              "          element.innerHTML = '';\n",
              "          dataTable['output_type'] = 'display_data';\n",
              "          await google.colab.output.renderOutput(dataTable, element);\n",
              "          const docLink = document.createElement('div');\n",
              "          docLink.innerHTML = docLinkHtml;\n",
              "          element.appendChild(docLink);\n",
              "        }\n",
              "      </script>\n",
              "    </div>\n",
              "  </div>\n",
              "  "
            ]
          },
          "metadata": {},
          "execution_count": 25
        }
      ],
      "source": [
        "# read data\n",
        "df = pd.read_csv(datapath + \"time_series_covid19_confirmed_US.csv\")\n",
        "df.head()"
      ]
    },
    {
      "cell_type": "code",
      "execution_count": 26,
      "metadata": {
        "colab": {
          "base_uri": "https://localhost:8080/"
        },
        "id": "hmRRGjhunKMn",
        "outputId": "1ce2d6d5-7f10-4349-f71f-cd5317cc4307"
      },
      "outputs": [
        {
          "output_type": "stream",
          "name": "stdout",
          "text": [
            "      1/22/20  1/23/20  1/24/20  1/25/20  1/26/20  1/27/20  1/28/20  1/29/20  \\\n",
            "3145        0        0        0        0        0        0        0        0   \n",
            "3146        0        0        0        0        0        0        0        0   \n",
            "3147        0        0        0        0        0        0        0        0   \n",
            "3148        0        0        0        0        0        0        0        0   \n",
            "3149        0        0        0        0        0        0        0        0   \n",
            "\n",
            "      1/30/20  1/31/20  ...  10/26/22  10/27/22  10/28/22  10/29/22  10/30/22  \\\n",
            "3145        0        0  ...      5537      5537      5537      5537      5537   \n",
            "3146        0        0  ...      5223      5223      5223      5223      5223   \n",
            "3147        0        0  ...     60006     60006     60006     60006     60006   \n",
            "3148        0        0  ...     23425     23425     23425     23425     23425   \n",
            "3149        0        0  ...     14968     14968     14968     14968     14968   \n",
            "\n",
            "      10/31/22  11/1/22  11/2/22  11/3/22  11/4/22  \n",
            "3145      5539     5539     5539     5539     5539  \n",
            "3146      5235     5235     5238     5238     5238  \n",
            "3147     60049    60049    60072    60072    60072  \n",
            "3148     23456    23456    23474    23474    23474  \n",
            "3149     15003    15003    15016    15016    15016  \n",
            "\n",
            "[5 rows x 1018 columns]\n",
            "      1/22/20  1/23/20  1/24/20  1/25/20  1/26/20  1/27/20  1/28/20  1/29/20  \\\n",
            "2700        0        0        0        0        0        0        0        0   \n",
            "2701        0        0        0        0        0        0        0        0   \n",
            "2702        0        0        0        0        0        0        0        0   \n",
            "2703        0        0        0        0        0        0        0        0   \n",
            "2704        0        0        0        0        0        0        0        0   \n",
            "\n",
            "      1/30/20  1/31/20  ...  10/26/22  10/27/22  10/28/22  10/29/22  10/30/22  \\\n",
            "2700        0        0  ...     10608     10608     10609     10609     10609   \n",
            "2701        0        0  ...      4708      4708      4709      4709      4709   \n",
            "2702        0        0  ...     16621     16621     16626     16626     16626   \n",
            "2703        0        0  ...      5243      5243      5248      5248      5248   \n",
            "2704        0        0  ...      2522      2522      2522      2522      2522   \n",
            "\n",
            "      10/31/22  11/1/22  11/2/22  11/3/22  11/4/22  \n",
            "2700     10613    10613    10620    10620    10622  \n",
            "2701      4721     4721     4722     4722     4722  \n",
            "2702     16628    16628    16629    16629    16630  \n",
            "2703      5252     5252     5253     5253     5254  \n",
            "2704      2523     2523     2525     2525     2527  \n",
            "\n",
            "[5 rows x 1018 columns]\n"
          ]
        },
        {
          "output_type": "execute_result",
          "data": {
            "text/plain": [
              "Index(['1/22/20', '1/23/20', '1/24/20', '1/25/20', '1/26/20', '1/27/20',\n",
              "       '1/28/20', '1/29/20', '1/30/20', '1/31/20',\n",
              "       ...\n",
              "       '10/26/22', '10/27/22', '10/28/22', '10/29/22', '10/30/22', '10/31/22',\n",
              "       '11/1/22', '11/2/22', '11/3/22', '11/4/22'],\n",
              "      dtype='object', length=1018)"
            ]
          },
          "metadata": {},
          "execution_count": 26
        }
      ],
      "source": [
        "# Select the data for Washington and Texas\n",
        "st1 = df.loc[df[\"Province_State\"] == \"Washington\"]\n",
        "st2 = df.loc[df[\"Province_State\"] == \"Texas\"]\n",
        "\n",
        "# drop not-used columns \n",
        "drop_cols = ['UID', 'iso2', 'iso3', 'FIPS', 'Province_State', 'Country_Region', \n",
        "             'Lat', 'Long_', 'code3', 'Combined_Key', 'Admin2']\n",
        "\n",
        "st1 = st1.drop(columns=drop_cols)\n",
        "st2 = st2.drop(columns=drop_cols)\n",
        "\n",
        "print(st1.head())\n",
        "print(st2.head())\n",
        "\n",
        "st1.columns"
      ]
    },
    {
      "cell_type": "code",
      "execution_count": 27,
      "metadata": {
        "colab": {
          "base_uri": "https://localhost:8080/"
        },
        "id": "24uDGzxwnKMn",
        "outputId": "582928aa-7502-4e95-c8ec-83091e232c83"
      },
      "outputs": [
        {
          "output_type": "stream",
          "name": "stdout",
          "text": [
            "10/31/22    1838206\n",
            "11/1/22     1838206\n",
            "11/2/22     1839317\n",
            "11/3/22     1839317\n",
            "11/4/22     1839317\n",
            "dtype: int64\n",
            "10/31/22    8039843\n",
            "11/1/22     8040256\n",
            "11/2/22     8043407\n",
            "11/3/22     8043873\n",
            "11/4/22     8047691\n",
            "dtype: int64\n"
          ]
        }
      ],
      "source": [
        "# sum of column data of rows \n",
        "# columns and rows will be changed\n",
        "# sum() function returns a Series\n",
        "cases_st1 = st1.sum(axis=0)\n",
        "cases_st2 = st2.sum(axis=0)\n",
        "\n",
        "print(cases_st1.tail())\n",
        "print(cases_st2.tail())"
      ]
    },
    {
      "cell_type": "code",
      "source": [
        "# createa a DataFrame of two states' data\n",
        "dict_states = {'WA_cases': cases_st1, 'TX_cases': cases_st2}\n",
        "\n",
        "data = pd.DataFrame(dict_states)\n",
        "\n",
        "print(data.head())\n",
        "print(data.tail())"
      ],
      "metadata": {
        "colab": {
          "base_uri": "https://localhost:8080/"
        },
        "id": "37JpyvIVo804",
        "outputId": "fe353e6d-17ac-498a-d778-2d7ec05059cf"
      },
      "execution_count": 28,
      "outputs": [
        {
          "output_type": "stream",
          "name": "stdout",
          "text": [
            "         WA_cases  TX_cases\n",
            "1/22/20         1         0\n",
            "1/23/20         1         0\n",
            "1/24/20         1         0\n",
            "1/25/20         1         0\n",
            "1/26/20         1         0\n",
            "          WA_cases  TX_cases\n",
            "10/31/22   1838206   8039843\n",
            "11/1/22    1838206   8040256\n",
            "11/2/22    1839317   8043407\n",
            "11/3/22    1839317   8043873\n",
            "11/4/22    1839317   8047691\n"
          ]
        }
      ]
    },
    {
      "cell_type": "code",
      "source": [
        "# reset index (0, 1, 2, . . . ) --> adding number index\n",
        "data.reset_index(inplace=True)\n",
        "\n",
        "data.head()"
      ],
      "metadata": {
        "colab": {
          "base_uri": "https://localhost:8080/",
          "height": 206
        },
        "id": "n9daaEago84N",
        "outputId": "f6c5c63f-673c-4daa-d330-4786b7ea42a9"
      },
      "execution_count": 29,
      "outputs": [
        {
          "output_type": "execute_result",
          "data": {
            "text/plain": [
              "     index  WA_cases  TX_cases\n",
              "0  1/22/20         1         0\n",
              "1  1/23/20         1         0\n",
              "2  1/24/20         1         0\n",
              "3  1/25/20         1         0\n",
              "4  1/26/20         1         0"
            ],
            "text/html": [
              "\n",
              "  <div id=\"df-7b47b969-177e-41a1-abbe-d7bc8ee4e6e3\">\n",
              "    <div class=\"colab-df-container\">\n",
              "      <div>\n",
              "<style scoped>\n",
              "    .dataframe tbody tr th:only-of-type {\n",
              "        vertical-align: middle;\n",
              "    }\n",
              "\n",
              "    .dataframe tbody tr th {\n",
              "        vertical-align: top;\n",
              "    }\n",
              "\n",
              "    .dataframe thead th {\n",
              "        text-align: right;\n",
              "    }\n",
              "</style>\n",
              "<table border=\"1\" class=\"dataframe\">\n",
              "  <thead>\n",
              "    <tr style=\"text-align: right;\">\n",
              "      <th></th>\n",
              "      <th>index</th>\n",
              "      <th>WA_cases</th>\n",
              "      <th>TX_cases</th>\n",
              "    </tr>\n",
              "  </thead>\n",
              "  <tbody>\n",
              "    <tr>\n",
              "      <th>0</th>\n",
              "      <td>1/22/20</td>\n",
              "      <td>1</td>\n",
              "      <td>0</td>\n",
              "    </tr>\n",
              "    <tr>\n",
              "      <th>1</th>\n",
              "      <td>1/23/20</td>\n",
              "      <td>1</td>\n",
              "      <td>0</td>\n",
              "    </tr>\n",
              "    <tr>\n",
              "      <th>2</th>\n",
              "      <td>1/24/20</td>\n",
              "      <td>1</td>\n",
              "      <td>0</td>\n",
              "    </tr>\n",
              "    <tr>\n",
              "      <th>3</th>\n",
              "      <td>1/25/20</td>\n",
              "      <td>1</td>\n",
              "      <td>0</td>\n",
              "    </tr>\n",
              "    <tr>\n",
              "      <th>4</th>\n",
              "      <td>1/26/20</td>\n",
              "      <td>1</td>\n",
              "      <td>0</td>\n",
              "    </tr>\n",
              "  </tbody>\n",
              "</table>\n",
              "</div>\n",
              "      <button class=\"colab-df-convert\" onclick=\"convertToInteractive('df-7b47b969-177e-41a1-abbe-d7bc8ee4e6e3')\"\n",
              "              title=\"Convert this dataframe to an interactive table.\"\n",
              "              style=\"display:none;\">\n",
              "        \n",
              "  <svg xmlns=\"http://www.w3.org/2000/svg\" height=\"24px\"viewBox=\"0 0 24 24\"\n",
              "       width=\"24px\">\n",
              "    <path d=\"M0 0h24v24H0V0z\" fill=\"none\"/>\n",
              "    <path d=\"M18.56 5.44l.94 2.06.94-2.06 2.06-.94-2.06-.94-.94-2.06-.94 2.06-2.06.94zm-11 1L8.5 8.5l.94-2.06 2.06-.94-2.06-.94L8.5 2.5l-.94 2.06-2.06.94zm10 10l.94 2.06.94-2.06 2.06-.94-2.06-.94-.94-2.06-.94 2.06-2.06.94z\"/><path d=\"M17.41 7.96l-1.37-1.37c-.4-.4-.92-.59-1.43-.59-.52 0-1.04.2-1.43.59L10.3 9.45l-7.72 7.72c-.78.78-.78 2.05 0 2.83L4 21.41c.39.39.9.59 1.41.59.51 0 1.02-.2 1.41-.59l7.78-7.78 2.81-2.81c.8-.78.8-2.07 0-2.86zM5.41 20L4 18.59l7.72-7.72 1.47 1.35L5.41 20z\"/>\n",
              "  </svg>\n",
              "      </button>\n",
              "      \n",
              "  <style>\n",
              "    .colab-df-container {\n",
              "      display:flex;\n",
              "      flex-wrap:wrap;\n",
              "      gap: 12px;\n",
              "    }\n",
              "\n",
              "    .colab-df-convert {\n",
              "      background-color: #E8F0FE;\n",
              "      border: none;\n",
              "      border-radius: 50%;\n",
              "      cursor: pointer;\n",
              "      display: none;\n",
              "      fill: #1967D2;\n",
              "      height: 32px;\n",
              "      padding: 0 0 0 0;\n",
              "      width: 32px;\n",
              "    }\n",
              "\n",
              "    .colab-df-convert:hover {\n",
              "      background-color: #E2EBFA;\n",
              "      box-shadow: 0px 1px 2px rgba(60, 64, 67, 0.3), 0px 1px 3px 1px rgba(60, 64, 67, 0.15);\n",
              "      fill: #174EA6;\n",
              "    }\n",
              "\n",
              "    [theme=dark] .colab-df-convert {\n",
              "      background-color: #3B4455;\n",
              "      fill: #D2E3FC;\n",
              "    }\n",
              "\n",
              "    [theme=dark] .colab-df-convert:hover {\n",
              "      background-color: #434B5C;\n",
              "      box-shadow: 0px 1px 3px 1px rgba(0, 0, 0, 0.15);\n",
              "      filter: drop-shadow(0px 1px 2px rgba(0, 0, 0, 0.3));\n",
              "      fill: #FFFFFF;\n",
              "    }\n",
              "  </style>\n",
              "\n",
              "      <script>\n",
              "        const buttonEl =\n",
              "          document.querySelector('#df-7b47b969-177e-41a1-abbe-d7bc8ee4e6e3 button.colab-df-convert');\n",
              "        buttonEl.style.display =\n",
              "          google.colab.kernel.accessAllowed ? 'block' : 'none';\n",
              "\n",
              "        async function convertToInteractive(key) {\n",
              "          const element = document.querySelector('#df-7b47b969-177e-41a1-abbe-d7bc8ee4e6e3');\n",
              "          const dataTable =\n",
              "            await google.colab.kernel.invokeFunction('convertToInteractive',\n",
              "                                                     [key], {});\n",
              "          if (!dataTable) return;\n",
              "\n",
              "          const docLinkHtml = 'Like what you see? Visit the ' +\n",
              "            '<a target=\"_blank\" href=https://colab.research.google.com/notebooks/data_table.ipynb>data table notebook</a>'\n",
              "            + ' to learn more about interactive tables.';\n",
              "          element.innerHTML = '';\n",
              "          dataTable['output_type'] = 'display_data';\n",
              "          await google.colab.output.renderOutput(dataTable, element);\n",
              "          const docLink = document.createElement('div');\n",
              "          docLink.innerHTML = docLinkHtml;\n",
              "          element.appendChild(docLink);\n",
              "        }\n",
              "      </script>\n",
              "    </div>\n",
              "  </div>\n",
              "  "
            ]
          },
          "metadata": {},
          "execution_count": 29
        }
      ]
    },
    {
      "cell_type": "code",
      "execution_count": 30,
      "metadata": {
        "colab": {
          "base_uri": "https://localhost:8080/",
          "height": 206
        },
        "id": "nqUsVPCInKMn",
        "outputId": "e2855288-933c-41ef-fa59-67798220a122"
      },
      "outputs": [
        {
          "output_type": "execute_result",
          "data": {
            "text/plain": [
              "     index  WA_cases  TX_cases  WA_daily  TX_daily\n",
              "0  1/22/20         1         0         0         0\n",
              "1  1/23/20         1         0         0         0\n",
              "2  1/24/20         1         0         0         0\n",
              "3  1/25/20         1         0         0         0\n",
              "4  1/26/20         1         0         0         0"
            ],
            "text/html": [
              "\n",
              "  <div id=\"df-903ac9b8-293d-45c2-b258-5339b2af5fa5\">\n",
              "    <div class=\"colab-df-container\">\n",
              "      <div>\n",
              "<style scoped>\n",
              "    .dataframe tbody tr th:only-of-type {\n",
              "        vertical-align: middle;\n",
              "    }\n",
              "\n",
              "    .dataframe tbody tr th {\n",
              "        vertical-align: top;\n",
              "    }\n",
              "\n",
              "    .dataframe thead th {\n",
              "        text-align: right;\n",
              "    }\n",
              "</style>\n",
              "<table border=\"1\" class=\"dataframe\">\n",
              "  <thead>\n",
              "    <tr style=\"text-align: right;\">\n",
              "      <th></th>\n",
              "      <th>index</th>\n",
              "      <th>WA_cases</th>\n",
              "      <th>TX_cases</th>\n",
              "      <th>WA_daily</th>\n",
              "      <th>TX_daily</th>\n",
              "    </tr>\n",
              "  </thead>\n",
              "  <tbody>\n",
              "    <tr>\n",
              "      <th>0</th>\n",
              "      <td>1/22/20</td>\n",
              "      <td>1</td>\n",
              "      <td>0</td>\n",
              "      <td>0</td>\n",
              "      <td>0</td>\n",
              "    </tr>\n",
              "    <tr>\n",
              "      <th>1</th>\n",
              "      <td>1/23/20</td>\n",
              "      <td>1</td>\n",
              "      <td>0</td>\n",
              "      <td>0</td>\n",
              "      <td>0</td>\n",
              "    </tr>\n",
              "    <tr>\n",
              "      <th>2</th>\n",
              "      <td>1/24/20</td>\n",
              "      <td>1</td>\n",
              "      <td>0</td>\n",
              "      <td>0</td>\n",
              "      <td>0</td>\n",
              "    </tr>\n",
              "    <tr>\n",
              "      <th>3</th>\n",
              "      <td>1/25/20</td>\n",
              "      <td>1</td>\n",
              "      <td>0</td>\n",
              "      <td>0</td>\n",
              "      <td>0</td>\n",
              "    </tr>\n",
              "    <tr>\n",
              "      <th>4</th>\n",
              "      <td>1/26/20</td>\n",
              "      <td>1</td>\n",
              "      <td>0</td>\n",
              "      <td>0</td>\n",
              "      <td>0</td>\n",
              "    </tr>\n",
              "  </tbody>\n",
              "</table>\n",
              "</div>\n",
              "      <button class=\"colab-df-convert\" onclick=\"convertToInteractive('df-903ac9b8-293d-45c2-b258-5339b2af5fa5')\"\n",
              "              title=\"Convert this dataframe to an interactive table.\"\n",
              "              style=\"display:none;\">\n",
              "        \n",
              "  <svg xmlns=\"http://www.w3.org/2000/svg\" height=\"24px\"viewBox=\"0 0 24 24\"\n",
              "       width=\"24px\">\n",
              "    <path d=\"M0 0h24v24H0V0z\" fill=\"none\"/>\n",
              "    <path d=\"M18.56 5.44l.94 2.06.94-2.06 2.06-.94-2.06-.94-.94-2.06-.94 2.06-2.06.94zm-11 1L8.5 8.5l.94-2.06 2.06-.94-2.06-.94L8.5 2.5l-.94 2.06-2.06.94zm10 10l.94 2.06.94-2.06 2.06-.94-2.06-.94-.94-2.06-.94 2.06-2.06.94z\"/><path d=\"M17.41 7.96l-1.37-1.37c-.4-.4-.92-.59-1.43-.59-.52 0-1.04.2-1.43.59L10.3 9.45l-7.72 7.72c-.78.78-.78 2.05 0 2.83L4 21.41c.39.39.9.59 1.41.59.51 0 1.02-.2 1.41-.59l7.78-7.78 2.81-2.81c.8-.78.8-2.07 0-2.86zM5.41 20L4 18.59l7.72-7.72 1.47 1.35L5.41 20z\"/>\n",
              "  </svg>\n",
              "      </button>\n",
              "      \n",
              "  <style>\n",
              "    .colab-df-container {\n",
              "      display:flex;\n",
              "      flex-wrap:wrap;\n",
              "      gap: 12px;\n",
              "    }\n",
              "\n",
              "    .colab-df-convert {\n",
              "      background-color: #E8F0FE;\n",
              "      border: none;\n",
              "      border-radius: 50%;\n",
              "      cursor: pointer;\n",
              "      display: none;\n",
              "      fill: #1967D2;\n",
              "      height: 32px;\n",
              "      padding: 0 0 0 0;\n",
              "      width: 32px;\n",
              "    }\n",
              "\n",
              "    .colab-df-convert:hover {\n",
              "      background-color: #E2EBFA;\n",
              "      box-shadow: 0px 1px 2px rgba(60, 64, 67, 0.3), 0px 1px 3px 1px rgba(60, 64, 67, 0.15);\n",
              "      fill: #174EA6;\n",
              "    }\n",
              "\n",
              "    [theme=dark] .colab-df-convert {\n",
              "      background-color: #3B4455;\n",
              "      fill: #D2E3FC;\n",
              "    }\n",
              "\n",
              "    [theme=dark] .colab-df-convert:hover {\n",
              "      background-color: #434B5C;\n",
              "      box-shadow: 0px 1px 3px 1px rgba(0, 0, 0, 0.15);\n",
              "      filter: drop-shadow(0px 1px 2px rgba(0, 0, 0, 0.3));\n",
              "      fill: #FFFFFF;\n",
              "    }\n",
              "  </style>\n",
              "\n",
              "      <script>\n",
              "        const buttonEl =\n",
              "          document.querySelector('#df-903ac9b8-293d-45c2-b258-5339b2af5fa5 button.colab-df-convert');\n",
              "        buttonEl.style.display =\n",
              "          google.colab.kernel.accessAllowed ? 'block' : 'none';\n",
              "\n",
              "        async function convertToInteractive(key) {\n",
              "          const element = document.querySelector('#df-903ac9b8-293d-45c2-b258-5339b2af5fa5');\n",
              "          const dataTable =\n",
              "            await google.colab.kernel.invokeFunction('convertToInteractive',\n",
              "                                                     [key], {});\n",
              "          if (!dataTable) return;\n",
              "\n",
              "          const docLinkHtml = 'Like what you see? Visit the ' +\n",
              "            '<a target=\"_blank\" href=https://colab.research.google.com/notebooks/data_table.ipynb>data table notebook</a>'\n",
              "            + ' to learn more about interactive tables.';\n",
              "          element.innerHTML = '';\n",
              "          dataTable['output_type'] = 'display_data';\n",
              "          await google.colab.output.renderOutput(dataTable, element);\n",
              "          const docLink = document.createElement('div');\n",
              "          docLink.innerHTML = docLinkHtml;\n",
              "          element.appendChild(docLink);\n",
              "        }\n",
              "      </script>\n",
              "    </div>\n",
              "  </div>\n",
              "  "
            ]
          },
          "metadata": {},
          "execution_count": 30
        }
      ],
      "source": [
        "# add two new columns and set default values\n",
        "\n",
        "data['WA_daily'] = 0\n",
        "data['TX_daily'] = 0\n",
        "\n",
        "data.head()"
      ]
    },
    {
      "cell_type": "code",
      "source": [
        "# calculate daily cases and assign the values\n",
        "\n",
        "for index, row in data.iterrows():\n",
        "    if index==0:\n",
        "        data.loc[index, 'WA_daily'] = data.loc[index, 'WA_cases'] \n",
        "        data.loc[index, 'TX_daily'] = data.loc[index, 'TX_cases'] \n",
        "    else:\n",
        "        data.loc[index, 'WA_daily'] = data.loc[index, 'WA_cases'] - data.loc[index-1, 'WA_cases'] \n",
        "        data.loc[index, 'TX_daily'] = data.loc[index, 'TX_cases'] - data.loc[index-1, 'TX_cases'] \n",
        "\n",
        "    # data clearning (drop error values)\n",
        "    if data.loc[index, 'WA_daily'] < 0:\n",
        "        data.loc[index, 'WA_daily'] = 0\n",
        "    if data.loc[index, 'TX_daily'] < 0:\n",
        "        data.loc[index, 'TX_daily'] = 0\n",
        "\n",
        "data.tail()"
      ],
      "metadata": {
        "colab": {
          "base_uri": "https://localhost:8080/",
          "height": 206
        },
        "id": "hnpj40pCpJ04",
        "outputId": "a8bcafd7-fcad-49e8-8723-b527f74db984"
      },
      "execution_count": 31,
      "outputs": [
        {
          "output_type": "execute_result",
          "data": {
            "text/plain": [
              "         index  WA_cases  TX_cases  WA_daily  TX_daily\n",
              "1013  10/31/22   1838206   8039843      3131      3687\n",
              "1014   11/1/22   1838206   8040256         0       413\n",
              "1015   11/2/22   1839317   8043407      1111      3151\n",
              "1016   11/3/22   1839317   8043873         0       466\n",
              "1017   11/4/22   1839317   8047691         0      3818"
            ],
            "text/html": [
              "\n",
              "  <div id=\"df-dbe8f339-efc0-44bb-b2e2-4678b55c9eb2\">\n",
              "    <div class=\"colab-df-container\">\n",
              "      <div>\n",
              "<style scoped>\n",
              "    .dataframe tbody tr th:only-of-type {\n",
              "        vertical-align: middle;\n",
              "    }\n",
              "\n",
              "    .dataframe tbody tr th {\n",
              "        vertical-align: top;\n",
              "    }\n",
              "\n",
              "    .dataframe thead th {\n",
              "        text-align: right;\n",
              "    }\n",
              "</style>\n",
              "<table border=\"1\" class=\"dataframe\">\n",
              "  <thead>\n",
              "    <tr style=\"text-align: right;\">\n",
              "      <th></th>\n",
              "      <th>index</th>\n",
              "      <th>WA_cases</th>\n",
              "      <th>TX_cases</th>\n",
              "      <th>WA_daily</th>\n",
              "      <th>TX_daily</th>\n",
              "    </tr>\n",
              "  </thead>\n",
              "  <tbody>\n",
              "    <tr>\n",
              "      <th>1013</th>\n",
              "      <td>10/31/22</td>\n",
              "      <td>1838206</td>\n",
              "      <td>8039843</td>\n",
              "      <td>3131</td>\n",
              "      <td>3687</td>\n",
              "    </tr>\n",
              "    <tr>\n",
              "      <th>1014</th>\n",
              "      <td>11/1/22</td>\n",
              "      <td>1838206</td>\n",
              "      <td>8040256</td>\n",
              "      <td>0</td>\n",
              "      <td>413</td>\n",
              "    </tr>\n",
              "    <tr>\n",
              "      <th>1015</th>\n",
              "      <td>11/2/22</td>\n",
              "      <td>1839317</td>\n",
              "      <td>8043407</td>\n",
              "      <td>1111</td>\n",
              "      <td>3151</td>\n",
              "    </tr>\n",
              "    <tr>\n",
              "      <th>1016</th>\n",
              "      <td>11/3/22</td>\n",
              "      <td>1839317</td>\n",
              "      <td>8043873</td>\n",
              "      <td>0</td>\n",
              "      <td>466</td>\n",
              "    </tr>\n",
              "    <tr>\n",
              "      <th>1017</th>\n",
              "      <td>11/4/22</td>\n",
              "      <td>1839317</td>\n",
              "      <td>8047691</td>\n",
              "      <td>0</td>\n",
              "      <td>3818</td>\n",
              "    </tr>\n",
              "  </tbody>\n",
              "</table>\n",
              "</div>\n",
              "      <button class=\"colab-df-convert\" onclick=\"convertToInteractive('df-dbe8f339-efc0-44bb-b2e2-4678b55c9eb2')\"\n",
              "              title=\"Convert this dataframe to an interactive table.\"\n",
              "              style=\"display:none;\">\n",
              "        \n",
              "  <svg xmlns=\"http://www.w3.org/2000/svg\" height=\"24px\"viewBox=\"0 0 24 24\"\n",
              "       width=\"24px\">\n",
              "    <path d=\"M0 0h24v24H0V0z\" fill=\"none\"/>\n",
              "    <path d=\"M18.56 5.44l.94 2.06.94-2.06 2.06-.94-2.06-.94-.94-2.06-.94 2.06-2.06.94zm-11 1L8.5 8.5l.94-2.06 2.06-.94-2.06-.94L8.5 2.5l-.94 2.06-2.06.94zm10 10l.94 2.06.94-2.06 2.06-.94-2.06-.94-.94-2.06-.94 2.06-2.06.94z\"/><path d=\"M17.41 7.96l-1.37-1.37c-.4-.4-.92-.59-1.43-.59-.52 0-1.04.2-1.43.59L10.3 9.45l-7.72 7.72c-.78.78-.78 2.05 0 2.83L4 21.41c.39.39.9.59 1.41.59.51 0 1.02-.2 1.41-.59l7.78-7.78 2.81-2.81c.8-.78.8-2.07 0-2.86zM5.41 20L4 18.59l7.72-7.72 1.47 1.35L5.41 20z\"/>\n",
              "  </svg>\n",
              "      </button>\n",
              "      \n",
              "  <style>\n",
              "    .colab-df-container {\n",
              "      display:flex;\n",
              "      flex-wrap:wrap;\n",
              "      gap: 12px;\n",
              "    }\n",
              "\n",
              "    .colab-df-convert {\n",
              "      background-color: #E8F0FE;\n",
              "      border: none;\n",
              "      border-radius: 50%;\n",
              "      cursor: pointer;\n",
              "      display: none;\n",
              "      fill: #1967D2;\n",
              "      height: 32px;\n",
              "      padding: 0 0 0 0;\n",
              "      width: 32px;\n",
              "    }\n",
              "\n",
              "    .colab-df-convert:hover {\n",
              "      background-color: #E2EBFA;\n",
              "      box-shadow: 0px 1px 2px rgba(60, 64, 67, 0.3), 0px 1px 3px 1px rgba(60, 64, 67, 0.15);\n",
              "      fill: #174EA6;\n",
              "    }\n",
              "\n",
              "    [theme=dark] .colab-df-convert {\n",
              "      background-color: #3B4455;\n",
              "      fill: #D2E3FC;\n",
              "    }\n",
              "\n",
              "    [theme=dark] .colab-df-convert:hover {\n",
              "      background-color: #434B5C;\n",
              "      box-shadow: 0px 1px 3px 1px rgba(0, 0, 0, 0.15);\n",
              "      filter: drop-shadow(0px 1px 2px rgba(0, 0, 0, 0.3));\n",
              "      fill: #FFFFFF;\n",
              "    }\n",
              "  </style>\n",
              "\n",
              "      <script>\n",
              "        const buttonEl =\n",
              "          document.querySelector('#df-dbe8f339-efc0-44bb-b2e2-4678b55c9eb2 button.colab-df-convert');\n",
              "        buttonEl.style.display =\n",
              "          google.colab.kernel.accessAllowed ? 'block' : 'none';\n",
              "\n",
              "        async function convertToInteractive(key) {\n",
              "          const element = document.querySelector('#df-dbe8f339-efc0-44bb-b2e2-4678b55c9eb2');\n",
              "          const dataTable =\n",
              "            await google.colab.kernel.invokeFunction('convertToInteractive',\n",
              "                                                     [key], {});\n",
              "          if (!dataTable) return;\n",
              "\n",
              "          const docLinkHtml = 'Like what you see? Visit the ' +\n",
              "            '<a target=\"_blank\" href=https://colab.research.google.com/notebooks/data_table.ipynb>data table notebook</a>'\n",
              "            + ' to learn more about interactive tables.';\n",
              "          element.innerHTML = '';\n",
              "          dataTable['output_type'] = 'display_data';\n",
              "          await google.colab.output.renderOutput(dataTable, element);\n",
              "          const docLink = document.createElement('div');\n",
              "          docLink.innerHTML = docLinkHtml;\n",
              "          element.appendChild(docLink);\n",
              "        }\n",
              "      </script>\n",
              "    </div>\n",
              "  </div>\n",
              "  "
            ]
          },
          "metadata": {},
          "execution_count": 31
        }
      ]
    },
    {
      "cell_type": "code",
      "source": [
        "# add a new column for the number of days\n",
        "data['day_number'] = data.index\n",
        "\n",
        "data.head()"
      ],
      "metadata": {
        "colab": {
          "base_uri": "https://localhost:8080/",
          "height": 206
        },
        "id": "jImGJRE9pJ6k",
        "outputId": "4ac0fae2-7825-4370-f400-357f94bc75d9"
      },
      "execution_count": 32,
      "outputs": [
        {
          "output_type": "execute_result",
          "data": {
            "text/plain": [
              "     index  WA_cases  TX_cases  WA_daily  TX_daily  day_number\n",
              "0  1/22/20         1         0         1         0           0\n",
              "1  1/23/20         1         0         0         0           1\n",
              "2  1/24/20         1         0         0         0           2\n",
              "3  1/25/20         1         0         0         0           3\n",
              "4  1/26/20         1         0         0         0           4"
            ],
            "text/html": [
              "\n",
              "  <div id=\"df-950b4f74-c8fd-4231-94a0-c42bf80f5b6f\">\n",
              "    <div class=\"colab-df-container\">\n",
              "      <div>\n",
              "<style scoped>\n",
              "    .dataframe tbody tr th:only-of-type {\n",
              "        vertical-align: middle;\n",
              "    }\n",
              "\n",
              "    .dataframe tbody tr th {\n",
              "        vertical-align: top;\n",
              "    }\n",
              "\n",
              "    .dataframe thead th {\n",
              "        text-align: right;\n",
              "    }\n",
              "</style>\n",
              "<table border=\"1\" class=\"dataframe\">\n",
              "  <thead>\n",
              "    <tr style=\"text-align: right;\">\n",
              "      <th></th>\n",
              "      <th>index</th>\n",
              "      <th>WA_cases</th>\n",
              "      <th>TX_cases</th>\n",
              "      <th>WA_daily</th>\n",
              "      <th>TX_daily</th>\n",
              "      <th>day_number</th>\n",
              "    </tr>\n",
              "  </thead>\n",
              "  <tbody>\n",
              "    <tr>\n",
              "      <th>0</th>\n",
              "      <td>1/22/20</td>\n",
              "      <td>1</td>\n",
              "      <td>0</td>\n",
              "      <td>1</td>\n",
              "      <td>0</td>\n",
              "      <td>0</td>\n",
              "    </tr>\n",
              "    <tr>\n",
              "      <th>1</th>\n",
              "      <td>1/23/20</td>\n",
              "      <td>1</td>\n",
              "      <td>0</td>\n",
              "      <td>0</td>\n",
              "      <td>0</td>\n",
              "      <td>1</td>\n",
              "    </tr>\n",
              "    <tr>\n",
              "      <th>2</th>\n",
              "      <td>1/24/20</td>\n",
              "      <td>1</td>\n",
              "      <td>0</td>\n",
              "      <td>0</td>\n",
              "      <td>0</td>\n",
              "      <td>2</td>\n",
              "    </tr>\n",
              "    <tr>\n",
              "      <th>3</th>\n",
              "      <td>1/25/20</td>\n",
              "      <td>1</td>\n",
              "      <td>0</td>\n",
              "      <td>0</td>\n",
              "      <td>0</td>\n",
              "      <td>3</td>\n",
              "    </tr>\n",
              "    <tr>\n",
              "      <th>4</th>\n",
              "      <td>1/26/20</td>\n",
              "      <td>1</td>\n",
              "      <td>0</td>\n",
              "      <td>0</td>\n",
              "      <td>0</td>\n",
              "      <td>4</td>\n",
              "    </tr>\n",
              "  </tbody>\n",
              "</table>\n",
              "</div>\n",
              "      <button class=\"colab-df-convert\" onclick=\"convertToInteractive('df-950b4f74-c8fd-4231-94a0-c42bf80f5b6f')\"\n",
              "              title=\"Convert this dataframe to an interactive table.\"\n",
              "              style=\"display:none;\">\n",
              "        \n",
              "  <svg xmlns=\"http://www.w3.org/2000/svg\" height=\"24px\"viewBox=\"0 0 24 24\"\n",
              "       width=\"24px\">\n",
              "    <path d=\"M0 0h24v24H0V0z\" fill=\"none\"/>\n",
              "    <path d=\"M18.56 5.44l.94 2.06.94-2.06 2.06-.94-2.06-.94-.94-2.06-.94 2.06-2.06.94zm-11 1L8.5 8.5l.94-2.06 2.06-.94-2.06-.94L8.5 2.5l-.94 2.06-2.06.94zm10 10l.94 2.06.94-2.06 2.06-.94-2.06-.94-.94-2.06-.94 2.06-2.06.94z\"/><path d=\"M17.41 7.96l-1.37-1.37c-.4-.4-.92-.59-1.43-.59-.52 0-1.04.2-1.43.59L10.3 9.45l-7.72 7.72c-.78.78-.78 2.05 0 2.83L4 21.41c.39.39.9.59 1.41.59.51 0 1.02-.2 1.41-.59l7.78-7.78 2.81-2.81c.8-.78.8-2.07 0-2.86zM5.41 20L4 18.59l7.72-7.72 1.47 1.35L5.41 20z\"/>\n",
              "  </svg>\n",
              "      </button>\n",
              "      \n",
              "  <style>\n",
              "    .colab-df-container {\n",
              "      display:flex;\n",
              "      flex-wrap:wrap;\n",
              "      gap: 12px;\n",
              "    }\n",
              "\n",
              "    .colab-df-convert {\n",
              "      background-color: #E8F0FE;\n",
              "      border: none;\n",
              "      border-radius: 50%;\n",
              "      cursor: pointer;\n",
              "      display: none;\n",
              "      fill: #1967D2;\n",
              "      height: 32px;\n",
              "      padding: 0 0 0 0;\n",
              "      width: 32px;\n",
              "    }\n",
              "\n",
              "    .colab-df-convert:hover {\n",
              "      background-color: #E2EBFA;\n",
              "      box-shadow: 0px 1px 2px rgba(60, 64, 67, 0.3), 0px 1px 3px 1px rgba(60, 64, 67, 0.15);\n",
              "      fill: #174EA6;\n",
              "    }\n",
              "\n",
              "    [theme=dark] .colab-df-convert {\n",
              "      background-color: #3B4455;\n",
              "      fill: #D2E3FC;\n",
              "    }\n",
              "\n",
              "    [theme=dark] .colab-df-convert:hover {\n",
              "      background-color: #434B5C;\n",
              "      box-shadow: 0px 1px 3px 1px rgba(0, 0, 0, 0.15);\n",
              "      filter: drop-shadow(0px 1px 2px rgba(0, 0, 0, 0.3));\n",
              "      fill: #FFFFFF;\n",
              "    }\n",
              "  </style>\n",
              "\n",
              "      <script>\n",
              "        const buttonEl =\n",
              "          document.querySelector('#df-950b4f74-c8fd-4231-94a0-c42bf80f5b6f button.colab-df-convert');\n",
              "        buttonEl.style.display =\n",
              "          google.colab.kernel.accessAllowed ? 'block' : 'none';\n",
              "\n",
              "        async function convertToInteractive(key) {\n",
              "          const element = document.querySelector('#df-950b4f74-c8fd-4231-94a0-c42bf80f5b6f');\n",
              "          const dataTable =\n",
              "            await google.colab.kernel.invokeFunction('convertToInteractive',\n",
              "                                                     [key], {});\n",
              "          if (!dataTable) return;\n",
              "\n",
              "          const docLinkHtml = 'Like what you see? Visit the ' +\n",
              "            '<a target=\"_blank\" href=https://colab.research.google.com/notebooks/data_table.ipynb>data table notebook</a>'\n",
              "            + ' to learn more about interactive tables.';\n",
              "          element.innerHTML = '';\n",
              "          dataTable['output_type'] = 'display_data';\n",
              "          await google.colab.output.renderOutput(dataTable, element);\n",
              "          const docLink = document.createElement('div');\n",
              "          docLink.innerHTML = docLinkHtml;\n",
              "          element.appendChild(docLink);\n",
              "        }\n",
              "      </script>\n",
              "    </div>\n",
              "  </div>\n",
              "  "
            ]
          },
          "metadata": {},
          "execution_count": 32
        }
      ]
    },
    {
      "cell_type": "code",
      "source": [
        "data.describe()"
      ],
      "metadata": {
        "colab": {
          "base_uri": "https://localhost:8080/",
          "height": 300
        },
        "id": "sWAGovtjpN_j",
        "outputId": "42acdbe4-b5d1-4930-a297-2d3739e32800"
      },
      "execution_count": 33,
      "outputs": [
        {
          "output_type": "execute_result",
          "data": {
            "text/plain": [
              "           WA_cases      TX_cases      WA_daily      TX_daily   day_number\n",
              "count  1.018000e+03  1.018000e+03   1018.000000   1018.000000  1018.000000\n",
              "mean   6.768590e+05  3.477200e+06   1810.812377   7905.674853   508.500000\n",
              "std    6.371554e+05  2.725450e+06   4678.870790  10691.070159   294.015589\n",
              "min    1.000000e+00  0.000000e+00      0.000000      0.000000     0.000000\n",
              "25%    9.093825e+04  7.938868e+05      0.000000   1544.250000   254.250000\n",
              "50%    4.444440e+05  3.014852e+06    559.000000   4500.000000   508.500000\n",
              "75%    1.413331e+06  6.582250e+06   1885.750000  10234.750000   762.750000\n",
              "max    1.839317e+06  8.047691e+06  64166.000000  88356.000000  1017.000000"
            ],
            "text/html": [
              "\n",
              "  <div id=\"df-0c14b7d8-5534-48f6-9f33-c7aecc1a45bb\">\n",
              "    <div class=\"colab-df-container\">\n",
              "      <div>\n",
              "<style scoped>\n",
              "    .dataframe tbody tr th:only-of-type {\n",
              "        vertical-align: middle;\n",
              "    }\n",
              "\n",
              "    .dataframe tbody tr th {\n",
              "        vertical-align: top;\n",
              "    }\n",
              "\n",
              "    .dataframe thead th {\n",
              "        text-align: right;\n",
              "    }\n",
              "</style>\n",
              "<table border=\"1\" class=\"dataframe\">\n",
              "  <thead>\n",
              "    <tr style=\"text-align: right;\">\n",
              "      <th></th>\n",
              "      <th>WA_cases</th>\n",
              "      <th>TX_cases</th>\n",
              "      <th>WA_daily</th>\n",
              "      <th>TX_daily</th>\n",
              "      <th>day_number</th>\n",
              "    </tr>\n",
              "  </thead>\n",
              "  <tbody>\n",
              "    <tr>\n",
              "      <th>count</th>\n",
              "      <td>1.018000e+03</td>\n",
              "      <td>1.018000e+03</td>\n",
              "      <td>1018.000000</td>\n",
              "      <td>1018.000000</td>\n",
              "      <td>1018.000000</td>\n",
              "    </tr>\n",
              "    <tr>\n",
              "      <th>mean</th>\n",
              "      <td>6.768590e+05</td>\n",
              "      <td>3.477200e+06</td>\n",
              "      <td>1810.812377</td>\n",
              "      <td>7905.674853</td>\n",
              "      <td>508.500000</td>\n",
              "    </tr>\n",
              "    <tr>\n",
              "      <th>std</th>\n",
              "      <td>6.371554e+05</td>\n",
              "      <td>2.725450e+06</td>\n",
              "      <td>4678.870790</td>\n",
              "      <td>10691.070159</td>\n",
              "      <td>294.015589</td>\n",
              "    </tr>\n",
              "    <tr>\n",
              "      <th>min</th>\n",
              "      <td>1.000000e+00</td>\n",
              "      <td>0.000000e+00</td>\n",
              "      <td>0.000000</td>\n",
              "      <td>0.000000</td>\n",
              "      <td>0.000000</td>\n",
              "    </tr>\n",
              "    <tr>\n",
              "      <th>25%</th>\n",
              "      <td>9.093825e+04</td>\n",
              "      <td>7.938868e+05</td>\n",
              "      <td>0.000000</td>\n",
              "      <td>1544.250000</td>\n",
              "      <td>254.250000</td>\n",
              "    </tr>\n",
              "    <tr>\n",
              "      <th>50%</th>\n",
              "      <td>4.444440e+05</td>\n",
              "      <td>3.014852e+06</td>\n",
              "      <td>559.000000</td>\n",
              "      <td>4500.000000</td>\n",
              "      <td>508.500000</td>\n",
              "    </tr>\n",
              "    <tr>\n",
              "      <th>75%</th>\n",
              "      <td>1.413331e+06</td>\n",
              "      <td>6.582250e+06</td>\n",
              "      <td>1885.750000</td>\n",
              "      <td>10234.750000</td>\n",
              "      <td>762.750000</td>\n",
              "    </tr>\n",
              "    <tr>\n",
              "      <th>max</th>\n",
              "      <td>1.839317e+06</td>\n",
              "      <td>8.047691e+06</td>\n",
              "      <td>64166.000000</td>\n",
              "      <td>88356.000000</td>\n",
              "      <td>1017.000000</td>\n",
              "    </tr>\n",
              "  </tbody>\n",
              "</table>\n",
              "</div>\n",
              "      <button class=\"colab-df-convert\" onclick=\"convertToInteractive('df-0c14b7d8-5534-48f6-9f33-c7aecc1a45bb')\"\n",
              "              title=\"Convert this dataframe to an interactive table.\"\n",
              "              style=\"display:none;\">\n",
              "        \n",
              "  <svg xmlns=\"http://www.w3.org/2000/svg\" height=\"24px\"viewBox=\"0 0 24 24\"\n",
              "       width=\"24px\">\n",
              "    <path d=\"M0 0h24v24H0V0z\" fill=\"none\"/>\n",
              "    <path d=\"M18.56 5.44l.94 2.06.94-2.06 2.06-.94-2.06-.94-.94-2.06-.94 2.06-2.06.94zm-11 1L8.5 8.5l.94-2.06 2.06-.94-2.06-.94L8.5 2.5l-.94 2.06-2.06.94zm10 10l.94 2.06.94-2.06 2.06-.94-2.06-.94-.94-2.06-.94 2.06-2.06.94z\"/><path d=\"M17.41 7.96l-1.37-1.37c-.4-.4-.92-.59-1.43-.59-.52 0-1.04.2-1.43.59L10.3 9.45l-7.72 7.72c-.78.78-.78 2.05 0 2.83L4 21.41c.39.39.9.59 1.41.59.51 0 1.02-.2 1.41-.59l7.78-7.78 2.81-2.81c.8-.78.8-2.07 0-2.86zM5.41 20L4 18.59l7.72-7.72 1.47 1.35L5.41 20z\"/>\n",
              "  </svg>\n",
              "      </button>\n",
              "      \n",
              "  <style>\n",
              "    .colab-df-container {\n",
              "      display:flex;\n",
              "      flex-wrap:wrap;\n",
              "      gap: 12px;\n",
              "    }\n",
              "\n",
              "    .colab-df-convert {\n",
              "      background-color: #E8F0FE;\n",
              "      border: none;\n",
              "      border-radius: 50%;\n",
              "      cursor: pointer;\n",
              "      display: none;\n",
              "      fill: #1967D2;\n",
              "      height: 32px;\n",
              "      padding: 0 0 0 0;\n",
              "      width: 32px;\n",
              "    }\n",
              "\n",
              "    .colab-df-convert:hover {\n",
              "      background-color: #E2EBFA;\n",
              "      box-shadow: 0px 1px 2px rgba(60, 64, 67, 0.3), 0px 1px 3px 1px rgba(60, 64, 67, 0.15);\n",
              "      fill: #174EA6;\n",
              "    }\n",
              "\n",
              "    [theme=dark] .colab-df-convert {\n",
              "      background-color: #3B4455;\n",
              "      fill: #D2E3FC;\n",
              "    }\n",
              "\n",
              "    [theme=dark] .colab-df-convert:hover {\n",
              "      background-color: #434B5C;\n",
              "      box-shadow: 0px 1px 3px 1px rgba(0, 0, 0, 0.15);\n",
              "      filter: drop-shadow(0px 1px 2px rgba(0, 0, 0, 0.3));\n",
              "      fill: #FFFFFF;\n",
              "    }\n",
              "  </style>\n",
              "\n",
              "      <script>\n",
              "        const buttonEl =\n",
              "          document.querySelector('#df-0c14b7d8-5534-48f6-9f33-c7aecc1a45bb button.colab-df-convert');\n",
              "        buttonEl.style.display =\n",
              "          google.colab.kernel.accessAllowed ? 'block' : 'none';\n",
              "\n",
              "        async function convertToInteractive(key) {\n",
              "          const element = document.querySelector('#df-0c14b7d8-5534-48f6-9f33-c7aecc1a45bb');\n",
              "          const dataTable =\n",
              "            await google.colab.kernel.invokeFunction('convertToInteractive',\n",
              "                                                     [key], {});\n",
              "          if (!dataTable) return;\n",
              "\n",
              "          const docLinkHtml = 'Like what you see? Visit the ' +\n",
              "            '<a target=\"_blank\" href=https://colab.research.google.com/notebooks/data_table.ipynb>data table notebook</a>'\n",
              "            + ' to learn more about interactive tables.';\n",
              "          element.innerHTML = '';\n",
              "          dataTable['output_type'] = 'display_data';\n",
              "          await google.colab.output.renderOutput(dataTable, element);\n",
              "          const docLink = document.createElement('div');\n",
              "          docLink.innerHTML = docLinkHtml;\n",
              "          element.appendChild(docLink);\n",
              "        }\n",
              "      </script>\n",
              "    </div>\n",
              "  </div>\n",
              "  "
            ]
          },
          "metadata": {},
          "execution_count": 33
        }
      ]
    },
    {
      "cell_type": "code",
      "source": [
        "data.boxplot()"
      ],
      "metadata": {
        "colab": {
          "base_uri": "https://localhost:8080/",
          "height": 299
        },
        "id": "uVY8AhampRHi",
        "outputId": "a8368ff2-2c9a-434a-ed7c-ccd9c96ead64"
      },
      "execution_count": 34,
      "outputs": [
        {
          "output_type": "execute_result",
          "data": {
            "text/plain": [
              "<matplotlib.axes._subplots.AxesSubplot at 0x7f6f2c109ed0>"
            ]
          },
          "metadata": {},
          "execution_count": 34
        },
        {
          "output_type": "display_data",
          "data": {
            "text/plain": [
              "<Figure size 432x288 with 1 Axes>"
            ],
            "image/png": "[encoded data removed]"
          },
          "metadata": {
            "needs_background": "light"
          }
        }
      ]
    },
    {
      "cell_type": "code",
      "source": [
        "data.hist()"
      ],
      "metadata": {
        "colab": {
          "base_uri": "https://localhost:8080/",
          "height": 409
        },
        "id": "w7RPUQOopRWI",
        "outputId": "31817134-5e6c-4466-bc20-c5c0592dcaf7"
      },
      "execution_count": 35,
      "outputs": [
        {
          "output_type": "execute_result",
          "data": {
            "text/plain": [
              "array([[<matplotlib.axes._subplots.AxesSubplot object at 0x7f6f2bffac50>,\n",
              "        <matplotlib.axes._subplots.AxesSubplot object at 0x7f6f2bf9a810>],\n",
              "       [<matplotlib.axes._subplots.AxesSubplot object at 0x7f6f2bfcbe10>,\n",
              "        <matplotlib.axes._subplots.AxesSubplot object at 0x7f6f2bf88450>],\n",
              "       [<matplotlib.axes._subplots.AxesSubplot object at 0x7f6f2bf39a50>,\n",
              "        <matplotlib.axes._subplots.AxesSubplot object at 0x7f6f2bee2b90>]],\n",
              "      dtype=object)"
            ]
          },
          "metadata": {},
          "execution_count": 35
        },
        {
          "output_type": "display_data",
          "data": {
            "text/plain": [
              "<Figure size 432x288 with 6 Axes>"
            ],
            "image/png": "[encoded data removed]"
          },
          "metadata": {
            "needs_background": "light"
          }
        }
      ]
    },
    {
      "cell_type": "markdown",
      "metadata": {
        "id": "SKqjgqtAnKMn"
      },
      "source": [
        "### Part 2: Write a summary of what you find from the data"
      ]
    },
    {
      "cell_type": "code",
      "execution_count": null,
      "metadata": {
        "id": "ZJobLpDcnKMn"
      },
      "outputs": [],
      "source": []
    }
  ],
  "metadata": {
    "kernelspec": {
      "display_name": "Python 3",
      "language": "python",
      "name": "python3"
    },
    "language_info": {
      "codemirror_mode": {
        "name": "ipython",
        "version": 3
      },
      "file_extension": ".py",
      "mimetype": "text/x-python",
      "name": "python",
      "nbconvert_exporter": "python",
      "pygments_lexer": "ipython3",
      "version": "3.7.3"
    },
    "colab": {
      "provenance": []
    }
  },
  "nbformat": 4,
  "nbformat_minor": 0
}